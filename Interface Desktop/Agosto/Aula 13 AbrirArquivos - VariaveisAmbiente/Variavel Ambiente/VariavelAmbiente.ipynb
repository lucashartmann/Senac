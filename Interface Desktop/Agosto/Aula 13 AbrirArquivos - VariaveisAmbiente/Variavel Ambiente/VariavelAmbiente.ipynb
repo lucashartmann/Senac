{
 "cells": [
  {
   "cell_type": "markdown",
   "id": "c99b4978",
   "metadata": {},
   "source": [
    "### Usando variáveis de ambiente em Python\n",
    "\n",
    "Variáveis de ambiente são valores definidos no sistema operacional que podem ser acessados pelos programas. Elas são úteis para guardar configurações, caminhos ou segredos (como senhas de banco de dados).\n",
    "\n",
    "#### Como definir uma variável de ambiente no terminal\n",
    "\n",
    "- No Linux:\n",
    "\t```bash\n",
    "\texport MEU_EXEMPLO=valor_teste\n",
    "\tpython seu_script.py\n",
    "\t```\n",
    "- No Windows (cmd):\n",
    "\t```cmd\n",
    "\tset MEU_EXEMPLO=valor_teste\n",
    "\tpython seu_script.py\n",
    "\t```\n",
    "\n",
    "\n",
    "#### Exemplo: Lendo e usando uma variável de ambiente\n",
    "\n",
    "```python\n",
    "import os\n",
    "\n",
    "# Suponha que exista uma variável de ambiente chamada 'USER' (Linux) ou 'USERNAME' (Windows)\n",
    "usuario = os.getenv('USER') or os.getenv('USERNAME')\n",
    "\n",
    "if usuario:\n",
    "\t\tprint(f\"Usuário atual: {usuario}\")\n",
    "else:\n",
    "\t\tprint(\"Variável de ambiente de usuário não encontrada.\")\n",
    "\n",
    "# Você também pode definir uma variável de ambiente temporariamente no script:\n",
    "os.environ['MEU_EXEMPLO'] = 'valor_teste'\n",
    "print(\"MEU_EXEMPLO:\", os.environ['MEU_EXEMPLO'])\n",
    "```\n"
   ]
  }
 ],
 "metadata": {
  "language_info": {
   "name": "python"
  }
 },
 "nbformat": 4,
 "nbformat_minor": 5
}
