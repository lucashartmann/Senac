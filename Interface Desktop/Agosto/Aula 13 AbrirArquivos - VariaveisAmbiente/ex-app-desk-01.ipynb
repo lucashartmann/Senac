{
 "cells": [
  {
   "cell_type": "markdown",
   "id": "2fcd2daa",
   "metadata": {},
   "source": [
    "## Exemplos de Utilitários em Linha de Comando com Python\n",
    "\n",
    "A seguir, veja ideias de utilitários que podem ser criados em Python usando os módulos e operações apresentados nas lições anteriores. Cada exemplo inclui um breve comentário sobre o funcionamento e os módulos envolvidos.\n",
    "\n",
    "\n",
    "### Buscador de Palavras em Arquivos\n",
    "Procura uma palavra em um arquivo de texto e mostra as linhas onde ela aparece.\n",
    "\n",
    "```python\n",
    "# Busca por uma palavra em um arquivo\n",
    "import sys\n",
    "palavra = sys.argv[2]\n",
    "with open(sys.argv[1], 'r') as f:\n",
    "\tfor i, linha in enumerate(f, 1):\n",
    "\t\tif palavra in linha:\n",
    "\t\t\tprint(f\"Linha {i}: {linha.strip()}\")\n",
    "```\n",
    "\n",
    "### Conversor de CSV para Lista\n",
    "Lê um arquivo CSV e exibe os dados em formato de lista.\n",
    "```python\n",
    "# Lê um arquivo CSV e exibe os dados\n",
    "import csv, sys\n",
    "with open(sys.argv[1], 'r', encoding='utf-8') as f:\n",
    "\tleitor = csv.reader(f)\n",
    "\tfor linha in leitor:\n",
    "\t\tprint(linha)\n",
    "```\n",
    "\n",
    "### Gerenciador de Inventário RPG com Shelve\n",
    "Salva, lê e atualiza dados de inventário de RPG usando o módulo `shelve`.\n",
    "```python\n",
    "# Adiciona um item ao inventário\n",
    "import shelve, sys\n",
    "with shelve.open('inventario.db') as db:\n",
    "\titens = db.get('itens', [])\n",
    "\titens.append(sys.argv[1])\n",
    "\tdb['itens'] = itens\n",
    "\tprint('Inventário:', db['itens'])\n",
    "```\n",
    "\n",
    "---\n",
    "\n",
    "## Exercícios: Criando Utilitários em Linha de Comando com Python\n",
    "\n",
    "Desenvolva os utilitários abaixo, reutilizando ou expandindo a lógica dos exemplos apresentados:\n",
    "\n",
    "1. **Contador de Linhas**\n",
    "\t- Escreva um programa que receba o nome de um arquivo de texto e exiba o número total de linhas desse arquivo.\n"
   ]
  },
  {
   "cell_type": "markdown",
   "id": "7d95e6d9",
   "metadata": {},
   "source": [
    "\n",
    "2. **Filtro de Linhas por Palavra**\n",
    "\t- Crie um utilitário que receba um arquivo de texto e uma palavra, e salve em um novo arquivo apenas as linhas que contêm essa palavra.\n"
   ]
  },
  {
   "cell_type": "markdown",
   "id": "06112417",
   "metadata": {},
   "source": [
    "\n",
    "3. **Conversor de CSV para TXT**\n",
    "\t- Implemente um programa que leia um arquivo CSV e salve os dados em um arquivo de texto simples, um registro por linha.\n"
   ]
  },
  {
   "cell_type": "markdown",
   "id": "f2cd91b8",
   "metadata": {},
   "source": [
    "\n",
    "4. **Inventário RPG: Remover Item**\n",
    "\t- Expanda o gerenciador de inventário para permitir a remoção de um item informado pelo usuário.\n"
   ]
  },
  {
   "cell_type": "markdown",
   "id": "898f129a",
   "metadata": {},
   "source": [
    "\n",
    "5. **Listador de Itens do Inventário**\n",
    "\t- Crie um utilitário que exiba todos os itens atualmente salvos no inventário RPG (usando shelve).\n"
   ]
  },
  {
   "cell_type": "markdown",
   "id": "4f3d8b32",
   "metadata": {},
   "source": [
    "\n",
    "6. **Busca de Personagem em CSV**\n",
    "\t- Escreva um programa que receba o nome de um personagem e busque seus dados em um arquivo CSV de personagens. Faz parte do exercícios criar o formato desse arquivo CSV.\n"
   ]
  },
  {
   "cell_type": "markdown",
   "id": "19356db5",
   "metadata": {},
   "source": [
    "\n",
    "7. **Relatório de Palavras**\n",
    "\t- Faça um utilitário que conte quantas vezes cada palavra aparece em um arquivo de texto e exiba um relatório ordenado (da maior para a menor quantidade de ocorrências).\n"
   ]
  },
  {
   "cell_type": "markdown",
   "id": "edcbeb65",
   "metadata": {},
   "source": [
    "\n",
    "8. **Atualizador de HP de Personagem**\n",
    "\t- Implemente um script que atualize o valor de HP de um personagem salvo no inventário (shelve), recebendo o nome e o novo valor por argumento."
   ]
  }
 ],
 "metadata": {
  "language_info": {
   "name": "python"
  }
 },
 "nbformat": 4,
 "nbformat_minor": 5
}
