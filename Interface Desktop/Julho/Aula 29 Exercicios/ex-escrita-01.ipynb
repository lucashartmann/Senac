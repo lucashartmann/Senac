{
 "cells": [
  {
   "cell_type": "markdown",
   "id": "c81e041c",
   "metadata": {},
   "source": [
    "## Exercícios de Escrita\n",
    "\n",
    "1. **Crie uma aplicação mínima com Textual:**\n",
    "   - Inicialize um ambiente virtual, instale o Textual e escreva uma aplicação que apenas exibe uma mensagem no terminal.\n"
   ]
  },
  {
   "cell_type": "markdown",
   "id": "51d0af28",
   "metadata": {},
   "source": [
    "```bash\n",
    "python -m venv .venv\n",
    ".venv/Scripts/activate\n",
    "pip install textual"
   ]
  },
  {
   "cell_type": "code",
   "execution_count": null,
   "id": "02f43121",
   "metadata": {},
   "outputs": [],
   "source": [
    "from textual.app import App \n",
    "from textual.widgets import Label\n",
    "\n",
    "class Tela(App):\n",
    "\n",
    "    def compose(self):\n",
    "        yield Label(\"Programa iniciado com sucesso\")\n",
    "\n",
    "\n",
    "if __name__ == \"__main__\":\n",
    "    app = Tela()\n",
    "    app.run()"
   ]
  },
  {
   "cell_type": "markdown",
   "id": "bc30d106",
   "metadata": {},
   "source": [
    "\n",
    "2. **Adicione um widget Static personalizado:**\n",
    "   - Modifique sua aplicação para exibir dois widgets Static com mensagens diferentes e ids distintos.\n"
   ]
  },
  {
   "cell_type": "code",
   "execution_count": null,
   "id": "7b7ff83a",
   "metadata": {},
   "outputs": [],
   "source": [
    "from textual.app import App \n",
    "from textual.widgets import Label, Static\n",
    "\n",
    "class Tela(App):\n",
    "\n",
    "    def compose(self):\n",
    "        yield Label(\"Programa iniciado com sucesso\")\n",
    "        yield Static(\"Esse é um Static\", id=\"static1\")\n",
    "        yield Static(\"Esse também é um Static\", id=\"static2\")\n",
    "\n",
    "\n",
    "if __name__ == \"__main__\":\n",
    "    app = Tela()\n",
    "    app.run()"
   ]
  },
  {
   "cell_type": "markdown",
   "id": "0678f95a",
   "metadata": {},
   "source": [
    "\n",
    "3. **Implemente um botão interativo:**\n",
    "   - Adicione um botão que, ao ser pressionado, altera o texto de um dos widgets Static.\n"
   ]
  },
  {
   "cell_type": "code",
   "execution_count": null,
   "id": "29ed66f3",
   "metadata": {},
   "outputs": [],
   "source": [
    "from textual.app import App \n",
    "from textual.widgets import Label, Static, Button\n",
    "\n",
    "class Tela(App):\n",
    "\n",
    "    def compose(self):\n",
    "        yield Label(\"Programa iniciado com sucesso\")\n",
    "        yield Static(\"Esse é um Static\", id=\"static1\")\n",
    "        yield Static(\"Esse também é um Static\", id=\"static2\")\n",
    "        yield Button(\"Clique aqui\")\n",
    "\n",
    "    def on_button_pressed(self, evento: Button.Pressed):\n",
    "        self.query_one(\"#static1\", Static).update(\"O texto foi alterado\")\n",
    "\n",
    "\n",
    "if __name__ == \"__main__\":\n",
    "    app = Tela()\n",
    "    app.run()"
   ]
  },
  {
   "cell_type": "markdown",
   "id": "dce70cb2",
   "metadata": {},
   "source": [
    "\n",
    "4. **Utilize CSS para estilizar os widgets:**\n",
    "   - Crie um arquivo CSS e aplique estilos diferentes para cada widget Static usando seletores por id e classe.\n"
   ]
  },
  {
   "cell_type": "markdown",
   "id": "699b53de",
   "metadata": {},
   "source": [
    "``` CSS\n",
    "\n",
    "Static {\n",
    "    color: yellow;\n",
    "}\n",
    "\n",
    "#static1 {\n",
    "    background: pink;\n",
    "}\n",
    "\n",
    "#static2 {\n",
    "    background: green;\n",
    "}"
   ]
  },
  {
   "cell_type": "markdown",
   "id": "75035c20",
   "metadata": {},
   "source": [
    "No código teria que chamar esse arquivo CSS usando CSS_PATH. Digamos que o nome do arquivo seja \"App.css\", aí fica: CSS_PATH = \"App.css\""
   ]
  },
  {
   "cell_type": "markdown",
   "id": "3b23fd93",
   "metadata": {},
   "source": [
    "\n",
    "5. **Explore o padrão observer/observable:**\n",
    "   - Implemente um exemplo onde um widget notifica outro ao ocorrer um evento, utilizando métodos de callback.\n"
   ]
  },
  {
   "cell_type": "code",
   "execution_count": null,
   "id": "50bad230",
   "metadata": {},
   "outputs": [],
   "source": [
    "from textual.app import App \n",
    "from textual.widgets import Label, Static, Button, TextArea\n",
    "\n",
    "class Tela(App):\n",
    "\n",
    "    CSS_PATH = \"teste.css\"\n",
    "\n",
    "    def compose(self):\n",
    "        yield Label(\"Programa iniciado com sucesso\")\n",
    "        yield Static(\"Esse é um Static\", id=\"static1\")\n",
    "        yield Static(\"Esse também é um Static\", id=\"static2\")\n",
    "        yield Button(\"Clique aqui\")\n",
    "        yield TextArea()\n",
    "\n",
    "    def on_button_pressed(self, evento: Button.Pressed):\n",
    "        self.query_one(\"#static1\", Static).update(\"O texto foi alterado\")\n",
    "        self.query_one(TextArea).text = \"O Botão foi pressionado\"\n",
    "\n",
    "\n",
    "if __name__ == \"__main__\":\n",
    "    app = Tela()\n",
    "    app.run()"
   ]
  },
  {
   "cell_type": "markdown",
   "id": "af84a158",
   "metadata": {},
   "source": [
    "\n",
    "6. **Pratique consultas no DOM:**\n",
    "   - Use os métodos `query` e `query_one` para buscar e atualizar widgets específicos na interface.\n"
   ]
  },
  {
   "cell_type": "markdown",
   "id": "942d2bfa",
   "metadata": {},
   "source": [
    "Nos códigos acima eu já estou usando self.query_one(), então irei fazer um exemplo usando self.query()"
   ]
  },
  {
   "cell_type": "code",
   "execution_count": null,
   "id": "98cd2ddf",
   "metadata": {},
   "outputs": [],
   "source": [
    "from textual.app import App \n",
    "from textual.widgets import Label, Static, Button, TextArea\n",
    "\n",
    "class Tela(App):\n",
    "\n",
    "    CSS_PATH = \"teste.css\"\n",
    "\n",
    "    def compose(self):\n",
    "        yield Label(\"Programa iniciado com sucesso\")\n",
    "        yield Static(\"Esse é um Static\", id=\"static1\")\n",
    "        yield Static(\"Esse também é um Static\", id=\"static2\")\n",
    "        yield Button(\"Clique aqui\")\n",
    "        yield TextArea()\n",
    "\n",
    "    def on_button_pressed(self, evento: Button.Pressed):\n",
    "        for static in self.query(\"Static\"):\n",
    "            static.update(\"Static alterado\")\n",
    "        self.query_one(TextArea).text = \"O Botão foi pressionado\"\n",
    "\n",
    "\n",
    "if __name__ == \"__main__\":\n",
    "    app = Tela()\n",
    "    app.run()"
   ]
  },
  {
   "cell_type": "markdown",
   "id": "43ffada2",
   "metadata": {},
   "source": [
    "\n",
    "7. **Implemente o padrão MVC:**\n",
    "   - Separe o estado da aplicação (Model), a interface (View) e o controle de eventos (Controller) em uma aplicação Textual simples.\n"
   ]
  },
  {
   "cell_type": "markdown",
   "id": "3e85a848",
   "metadata": {},
   "source": [
    "Irei fazer uma novo programa que terá a função de cadastro\n"
   ]
  },
  {
   "cell_type": "code",
   "execution_count": null,
   "id": "c69fe6e9",
   "metadata": {},
   "outputs": [],
   "source": [
    "class Empresa():\n",
    "    def __init__(self):\n",
    "        self.clientes = []\n",
    "\n",
    "    def cadastrar(self, cliente):\n",
    "        if cliente not in self.clientes:\n",
    "            self.clientes.append(cliente)\n",
    "            return True\n",
    "        return False\n",
    "        \n",
    "    def get_lista_clientes(self):\n",
    "        if len(self.clientes) > 0:\n",
    "            return self.clientes\n",
    "        return None\n",
    "\n",
    "class Cliente():\n",
    "    def __init__(self, nome):\n",
    "        self.nome = nome\n",
    "\n",
    "    def get_nome(self):\n",
    "        return self.nome\n",
    "    \n",
    "    def __str__(self):\n",
    "        return f\"Cliente[nome = {self.nome}]\"\n",
    "\n",
    "    \n",
    "class Controller():\n",
    "    empresa1 = Empresa()\n",
    "\n",
    "    def cadastro(nome):\n",
    "        novo_cliente = Cliente(nome)\n",
    "        condicao = Controller.empresa1.cadastrar(novo_cliente)\n",
    "        if condicao:\n",
    "            return \"Cliente cadastrado na empresa com sucesso!\"\n",
    "        else:\n",
    "            return \"ERRO. Cadastro não realizado\"\n",
    "        \n",
    "    def ver_clientes():\n",
    "        lista_clientes = Controller.empresa1.get_lista_clientes()\n",
    "        if lista_clientes:\n",
    "            return \"\".join(str(cliente) for cliente in lista_clientes)\n",
    "        else: \n",
    "            return \"Não há clientes cadastrados\"\n",
    "        \n",
    "\n",
    "\n",
    "from textual.app import App \n",
    "from textual.widgets import Static, Button, TextArea, Input\n",
    "from textual.containers import HorizontalGroup\n",
    "\n",
    "class Tela(App):\n",
    "\n",
    "    CSS = '''\n",
    "        TextArea {\n",
    "            margin-top: 3;\n",
    "            height: 50%;\n",
    "        }\n",
    "        #static1 {\n",
    "            width: 10%;\n",
    "        }\n",
    "        Input {\n",
    "            width: 20%;\n",
    "        }\n",
    "    '''\n",
    "\n",
    "    def compose(self):\n",
    "        with HorizontalGroup():\n",
    "            yield Static(\"Digite seu nome\", id=\"static1\")\n",
    "            yield Input()\n",
    "            yield Button(\"Cadastrar\")\n",
    "        yield TextArea()\n",
    "\n",
    "    def on_button_pressed(self, evento: Button.Pressed):\n",
    "        nome = self.query_one(Input).value\n",
    "        resultado_cadastro = Controller.cadastro(nome)\n",
    "        resultado_consulta = Controller.ver_clientes()\n",
    "        self.query_one(TextArea).text = f\"{resultado_cadastro}\\n{resultado_consulta}\" \n",
    "\n",
    "        \n",
    "\n",
    "if __name__ == \"__main__\":\n",
    "    app = Tela()\n",
    "    app.run()"
   ]
  },
  {
   "cell_type": "markdown",
   "id": "f64f907e",
   "metadata": {},
   "source": [
    "Tela é a view<br>\n",
    "Controller é o Controller<br>\n",
    "Empresa e Cliente são as models"
   ]
  },
  {
   "cell_type": "markdown",
   "id": "17cfe384",
   "metadata": {},
   "source": [
    "\n",
    "8. **Experimente diferentes seletores CSS:**\n",
    "   - Teste seletores por tipo, id e classe para modificar o visual dos widgets Static.\n"
   ]
  },
  {
   "cell_type": "code",
   "execution_count": null,
   "id": "cbdd1664",
   "metadata": {},
   "outputs": [],
   "source": [
    "from textual.app import App \n",
    "from textual.widgets import Label, Static, Button, TextArea\n",
    "\n",
    "class Tela(App):\n",
    "\n",
    "    CSS = '''\n",
    "        Static {\n",
    "            border: solid;\n",
    "        }\n",
    "\n",
    "        #static1{\n",
    "            color: red;\n",
    "            outline: yellow;\n",
    "        }\n",
    "\n",
    "        #static2{\n",
    "         color: rgb(100,200,300);\n",
    "        }\n",
    "\n",
    "        #static3{\n",
    "            text_style: italic;\n",
    "        }\n",
    "\n",
    "        #static4{\n",
    "            background: rgb(93, 96, 222);\n",
    "        }\n",
    "\n",
    "        \n",
    "        .conjunto_statics {\n",
    "            color: green;\n",
    "            text_style: bold;\n",
    "        }\n",
    "\n",
    "        #static5{\n",
    "         background: yellow;\n",
    "         text_style: italic;\n",
    "        }\n",
    "\n",
    "        .static5 {\n",
    "            margin-top: 1;\n",
    "        }\n",
    "    '''\n",
    "\n",
    "    def compose(self):\n",
    "        yield Static(\"Esse é o texto do primeiro static\", id=\"static1\")\n",
    "        yield Static(\"Esse é o texto do segundo static\", id=\"static2\")\n",
    "\n",
    "        yield Static(\"Esse é o texto do terceiro static\", id=\"static3\", classes=\"conjunto_statics\")\n",
    "        yield Static(\"Esse é o texto do quarto static\", id=\"static4\", classes=\"conjunto_statics\")\n",
    "\n",
    "        yield Static(\"Esse é o texto do quinto static\", id=\"static5\", classes=\"static5\")\n",
    "\n",
    "if __name__ == \"__main__\":\n",
    "    app = Tela()\n",
    "    app.run()"
   ]
  },
  {
   "cell_type": "markdown",
   "id": "3f7e5065",
   "metadata": {},
   "source": [
    "\n",
    "9. **Crie um tema personalizado:**\n",
    "   - Desenvolva um tema CSS para sua aplicação, alterando cores, bordas e fontes dos widgets.\n"
   ]
  },
  {
   "cell_type": "markdown",
   "id": "856bcdc8",
   "metadata": {},
   "source": [
    "Vou usar o código que fiz na 7. porque ele era mais elaborado usando model, controller e etc"
   ]
  },
  {
   "cell_type": "markdown",
   "id": "04341f44",
   "metadata": {},
   "source": [
    "```CSS\n",
    "\n",
    "Screen {\n",
    "    background: rgba(87, 213, 186, 1);\n",
    "}\n",
    " \n",
    "TextArea {\n",
    "    margin-top: 3;\n",
    "    height: 15;\n",
    "    width: 120;\n",
    "    margin-left: 25;\n",
    "    border: round thick  rgba(72, 179, 155, 1);\n",
    "    align-horizontal: center;\n",
    "    color: red;\n",
    "    background: black;\n",
    "}\n",
    "\n",
    "#static1 {\n",
    "    width: 10%;\n",
    "    margin-top: 1;\n",
    "    color: black;\n",
    "    text-style: bold;\n",
    "    background: white;\n",
    "    align-horizontal: center;\n",
    "}\n",
    "\n",
    "Input {\n",
    "    width: 20%;\n",
    "    margin-left: 3;\n",
    "    margin-right: 3;\n",
    "    background: black;\n",
    "}\n",
    "\n",
    "#container {\n",
    "    margin-top: 2;\n",
    "    align: center middle;\n",
    "}\n",
    "\n",
    "#btn_cadastro {\n",
    "    background: black;\n",
    "}"
   ]
  },
  {
   "cell_type": "markdown",
   "id": "091820c8",
   "metadata": {},
   "source": [
    "\n",
    "10. **Documente seu processo:**\n",
    "    - Escreva um breve relatório explicando as etapas seguidas, dificuldades encontradas e soluções adotadas.\n"
   ]
  },
  {
   "cell_type": "markdown",
   "id": "c84d2e99",
   "metadata": {},
   "source": [
    "- Resposta: Bom, comecei fazendo um código menor que foi aumentando a cada exercicio. Nesse processo aprendi que mudar o Static pode causar mudanças na Label também. A dificuldade foi usar as propriedades certas do CSS/TCSS, pois muitas propriedades do CSS não funcionam no Textual. Não consegui por exemplo alterar a fonte do texto (Arial...) e nem seu tamanho. Não consultar o site do Textual faz com que o CSS/TCSS seja mais tentativa e erro.  "
   ]
  }
 ],
 "metadata": {
  "kernelspec": {
   "display_name": "Python 3",
   "language": "python",
   "name": "python3"
  },
  "language_info": {
   "codemirror_mode": {
    "name": "ipython",
    "version": 3
   },
   "file_extension": ".py",
   "mimetype": "text/x-python",
   "name": "python",
   "nbconvert_exporter": "python",
   "pygments_lexer": "ipython3",
   "version": "3.13.3"
  }
 },
 "nbformat": 4,
 "nbformat_minor": 5
}
