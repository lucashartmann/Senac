{
 "cells": [
  {
   "cell_type": "markdown",
   "id": "cf715831",
   "metadata": {},
   "source": [
    "## Desafios Práticos\n",
    "\n",
    "1. **Dashboard Interativo com Textual**\n",
    "   - Crie uma aplicação que simule um dashboard no terminal, exibindo pelo menos três widgets Static com informações diferentes (ex: tempo, status, contagem). Adicione botões para atualizar os dados exibidos e utilize CSS para diferenciar visualmente cada área do dashboard. Implemente consultas no DOM para atualizar widgets específicos.\n",
    "\n",
    "2. **Sistema de Notificações com Observer/Observable**\n",
    "   - Implemente uma aplicação onde vários widgets Static podem ser \"notificados\" por eventos disparados por botões ou outros widgets. Use o padrão Observer/Observable para que, ao pressionar um botão, todos os widgets observadores exibam uma mensagem de notificação. Estilize as notificações com CSS e utilize seletores para aplicar estilos diferentes conforme o tipo de notificação.\n"
   ]
  }
 ],
 "metadata": {
  "language_info": {
   "name": "python"
  }
 },
 "nbformat": 4,
 "nbformat_minor": 5
}
