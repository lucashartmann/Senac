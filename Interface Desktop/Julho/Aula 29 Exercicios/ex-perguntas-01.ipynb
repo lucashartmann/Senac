{
 "cells": [
  {
   "cell_type": "markdown",
   "id": "9e193afb",
   "metadata": {},
   "source": [
    "\n",
    "## Perguntas \n",
    "\n",
    "1. Qual comando inicializa um ambiente virtual em Python?\n",
    "   - a) `python -m virtualenv venv`\n",
    "   - b) `python -m venv .venv`\n",
    "   - c) `pip install venv`\n",
    "   - d) `venv init`\n"
   ]
  },
  {
   "cell_type": "markdown",
   "id": "154bb7ab",
   "metadata": {},
   "source": [
    "- Resposta: Letra B"
   ]
  },
  {
   "cell_type": "markdown",
   "id": "19247221",
   "metadata": {},
   "source": [
    "\n",
    "2. Qual framework permite criar interfaces no terminal com Python?\n",
    "   - a) Tkinter\n",
    "   - b) PyQt\n",
    "   - c) Textual\n",
    "   - d) Kivy\n"
   ]
  },
  {
   "cell_type": "markdown",
   "id": "43ad7dbb",
   "metadata": {},
   "source": [
    "- Resposta: Letra C"
   ]
  },
  {
   "cell_type": "markdown",
   "id": "20f2c57e",
   "metadata": {},
   "source": [
    "\n",
    "3. Qual método é usado para iniciar uma aplicação Textual?\n",
    "   - a) start()\n",
    "   - b) run()\n",
    "   - c) execute()\n",
    "   - d) main()\n"
   ]
  },
  {
   "cell_type": "markdown",
   "id": "af3786a2",
   "metadata": {},
   "source": [
    "- Resposta: Letra B"
   ]
  },
  {
   "cell_type": "markdown",
   "id": "4b9d7f23",
   "metadata": {},
   "source": [
    "\n",
    "4. O que significa a sigla MVC?\n",
    "   - a) Model-View-Component\n",
    "   - b) Model-View-Controller\n",
    "   - c) Module-View-Controller\n",
    "   - d) Main-View-Controller\n"
   ]
  },
  {
   "cell_type": "markdown",
   "id": "e2d574b7",
   "metadata": {},
   "source": [
    "- Resposta: Letra B"
   ]
  },
  {
   "cell_type": "markdown",
   "id": "4683a365",
   "metadata": {},
   "source": [
    "\n",
    "5. Qual das funções abaixo implementa o padrão Observer/Observable?\n",
    "   - a) Separação de lógica de negócio\n",
    "   - b) Notificação de componentes sobre eventos\n",
    "   - c) Criação temas visuais\n",
    "   - d) Gerenciamento de dependências\n"
   ]
  },
  {
   "cell_type": "markdown",
   "id": "0ba2bc12",
   "metadata": {},
   "source": [
    "- Resposta: Letra B"
   ]
  },
  {
   "cell_type": "markdown",
   "id": "14d1de3c",
   "metadata": {},
   "source": [
    "\n",
    "6. Qual comando instala o Textual em um ambiente virtual?\n",
    "   - a) `pip install textual`\n",
    "   - b) `pip textual install`\n",
    "   - c) `python install textual`\n",
    "   - d) `textual --install`\n"
   ]
  },
  {
   "cell_type": "markdown",
   "id": "64563693",
   "metadata": {},
   "source": [
    "- Resposta: Letra A"
   ]
  },
  {
   "cell_type": "markdown",
   "id": "581b3833",
   "metadata": {},
   "source": [
    "\n",
    "7. Qual método de App adiciona widgets à interface no Textual?\n",
    "   - a) add_widget()\n",
    "   - b) compose()\n",
    "   - c) create()\n",
    "   - d) build()\n"
   ]
  },
  {
   "cell_type": "markdown",
   "id": "05dc05b3",
   "metadata": {},
   "source": [
    "- Resposta: Letra B"
   ]
  },
  {
   "cell_type": "markdown",
   "id": "4e0e8aef",
   "metadata": {},
   "source": [
    "\n",
    "8. Qual dos seletores CSS abaixo estiliza todos os widgets de um certo tipo?\n",
    "   - a) #botao_ok\n",
    "   - b) .inativo\n",
    "   - c) Button\n",
    "   - d) *\n"
   ]
  },
  {
   "cell_type": "markdown",
   "id": "af67c831",
   "metadata": {},
   "source": [
    "- Resposta: Letra C"
   ]
  },
  {
   "cell_type": "markdown",
   "id": "27bee192",
   "metadata": {},
   "source": [
    "\n",
    "9. Qual propriedade CSS define a cor do texto?\n",
    "   - a) background\n",
    "   - b) color\n",
    "   - c) border\n",
    "   - d) font-style\n"
   ]
  },
  {
   "cell_type": "markdown",
   "id": "cfea86ff",
   "metadata": {},
   "source": [
    "- Resposta: Letra B"
   ]
  },
  {
   "cell_type": "markdown",
   "id": "3e7c4f68",
   "metadata": {},
   "source": [
    "\n",
    "10. Qual método usamos para buscar pelo id um único widget?\n",
    "   - a) find_one()\n",
    "   - b) query_one()\n",
    "   - c) get_widget()\n",
    "   - d) select_one()\n"
   ]
  },
  {
   "cell_type": "markdown",
   "id": "8ca8cf1a",
   "metadata": {},
   "source": [
    "- Resposta: Letra B"
   ]
  },
  {
   "cell_type": "markdown",
   "id": "a0b66b57",
   "metadata": {},
   "source": [
    "\n",
    "11. O que é um callback?\n",
    "   - a) Um método chamado automaticamente em resposta a um evento\n",
    "   - b) Uma variável de configuração\n",
    "   - c) Um tipo de widget\n",
    "   - d) Um método chamado por um id\n"
   ]
  },
  {
   "cell_type": "markdown",
   "id": "d1300c0b",
   "metadata": {},
   "source": [
    "- Resposta: Letra A"
   ]
  },
  {
   "cell_type": "markdown",
   "id": "0715dce3",
   "metadata": {},
   "source": [
    "\n",
    "12. Qual comando ativa um ambiente virtual no CMD do Windows?\n",
    "   - a) `activate .venv`\n",
    "   - b) `.venv/Scripts/activate`\n",
    "   - c) `. .venv/bin/activate`\n",
    "   - d) `python activate`\n"
   ]
  },
  {
   "cell_type": "markdown",
   "id": "bcc354aa",
   "metadata": {},
   "source": [
    "- Resposta: Letra B"
   ]
  },
  {
   "cell_type": "markdown",
   "id": "872c2cee",
   "metadata": {},
   "source": [
    "\n",
    "13. Qual dos seguintes é um exemplo de seletor por classe em CSS?\n",
    "   - a) #tx_nome\n",
    "   - b) .container\n",
    "   - c) Static\n",
    "   - d) *\n"
   ]
  },
  {
   "cell_type": "markdown",
   "id": "7bc6d849",
   "metadata": {},
   "source": [
    "- Resposta: Letra B"
   ]
  },
  {
   "cell_type": "markdown",
   "id": "8e7a2c2f",
   "metadata": {},
   "source": [
    "\n",
    "14. Qual evento é tratado pelo método on_button_pressed no Textual?\n",
    "   - a) Clique em qualquer widget\n",
    "   - b) Pressionamento de botão\n",
    "   - c) Mudança de cor\n",
    "   - d) Inicialização da aplicação\n"
   ]
  },
  {
   "cell_type": "markdown",
   "id": "2aba0e9d",
   "metadata": {},
   "source": [
    "- Resposta: Letra B"
   ]
  },
  {
   "cell_type": "markdown",
   "id": "18307ecb",
   "metadata": {},
   "source": [
    "\n",
    "15. Qual vantagem do uso de CSS no Textual?\n",
    "   - a) Dificulta manutenção\n",
    "   - b) Permite personalização visual\n",
    "   - c) Limita estilos\n",
    "   - d) Exige programação avançada\n",
    "\n"
   ]
  },
  {
   "cell_type": "markdown",
   "id": "0a61f341",
   "metadata": {},
   "source": [
    "- Resposta: Letra B"
   ]
  }
 ],
 "metadata": {
  "language_info": {
   "name": "python"
  }
 },
 "nbformat": 4,
 "nbformat_minor": 5
}
