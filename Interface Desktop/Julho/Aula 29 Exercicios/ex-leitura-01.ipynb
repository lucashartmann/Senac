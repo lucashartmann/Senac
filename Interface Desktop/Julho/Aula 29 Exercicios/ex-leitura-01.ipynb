{
 "cells": [
  {
   "cell_type": "markdown",
   "id": "0b4d6cc1",
   "metadata": {},
   "source": [
    "# Exercícios de leitura de código\n",
    "\n",
    "## Exercícios de Leitura de Código\n",
    "\n",
    "1. Analise o código abaixo e explique o que será exibido no terminal ao executar:\n",
    "\n",
    "```python\n",
    "from textual.app import App\n",
    "from textual.widgets import Static\n",
    "\n",
    "class Exemplo1(App):\n",
    "    def compose(self):\n",
    "        yield Static(\"Bem-vindo ao Textual!\")\n",
    "\n",
    "Exemplo1().run()\n",
    "```\n"
   ]
  },
  {
   "cell_type": "markdown",
   "id": "c169cac4",
   "metadata": {},
   "source": [
    "- Resposta: Quando o programa for executado vai \"abrir uma tela\" no CMD que vai ser uma tela preta com o texto \"Bem-vindo ao Textual!\" nela"
   ]
  },
  {
   "cell_type": "markdown",
   "id": "7f4147a5",
   "metadata": {},
   "source": [
    "\n",
    "2. O que acontece se você alterar o texto do widget Static no exemplo acima para \"Olá, mundo!\"?\n"
   ]
  },
  {
   "cell_type": "markdown",
   "id": "e7cb0248",
   "metadata": {},
   "source": [
    "- Resposta: Na próxima vez que você executar o código, a tela não terá mais a mensagem \"Bem vindo ao Textual!\", ela vai ter a mensagem \"Olá, mundo!\""
   ]
  },
  {
   "cell_type": "markdown",
   "id": "a1f713ef",
   "metadata": {},
   "source": [
    "\n",
    "3. Observe o código a seguir. O que acontece ao pressionar o botão?\n",
    "\n",
    "```python\n",
    "from textual.app import App, ComposeResult\n",
    "from textual.widgets import Button, Static\n",
    "\n",
    "class Exemplo2(App):\n",
    "    def compose(self) -> ComposeResult:\n",
    "        yield Button(\"Clique\", id=\"btn\")\n",
    "        yield Static(\"Aguardando...\", id=\"msg\")\n",
    "\n",
    "    def on_button_pressed(self, event: Button.Pressed) -> None:\n",
    "        self.query_one(\"#msg\", Static).update(\"Botão pressionado!\")\n",
    "\n",
    "Exemplo2().run()\n",
    "```\n"
   ]
  },
  {
   "cell_type": "markdown",
   "id": "da987129",
   "metadata": {},
   "source": [
    "- Resposta: O texto \"Aguardando...\" que está aparecendo na tela irá mudar para \"Botão pressionado!\". Basicamente: o texto vai ser substituido"
   ]
  },
  {
   "cell_type": "markdown",
   "id": "12a4e8b1",
   "metadata": {},
   "source": [
    "\n",
    "4. No exemplo acima, o que mudaria se o id do Static fosse alterado para \"mensagem\"?\n"
   ]
  },
  {
   "cell_type": "markdown",
   "id": "9d87c4e4",
   "metadata": {},
   "source": [
    "- Resposta: O programa iria encerrar com um erro quando o botão fosse pressionado, pois o query_one tentaria pegar um Static cujo id seja \"msg\", mas como não existe Static com esse id, o programa vai dar erro"
   ]
  },
  {
   "cell_type": "markdown",
   "id": "d8dcef10",
   "metadata": {},
   "source": [
    "\n",
    "5. Analise o código e explique o papel do método `compose`:\n",
    "\n",
    "```python\n",
    "class MinhaApp(App):\n",
    "    def compose(self):\n",
    "        yield Static(\"Texto 1\")\n",
    "        yield Static(\"Texto 2\")\n",
    "```\n"
   ]
  },
  {
   "cell_type": "markdown",
   "id": "20b2d550",
   "metadata": {},
   "source": [
    "- Resposta: O compose é como se fosse a \"composição da tela\", eu estou dizendo o que a minha tela possui, no caso dois Static. Ele é uma função que retorna para a tela os seus componentes que devem fazer parte da sua composição. Ele é basicamente usado para os componentes serem adicionados e vistos, se eu quiser adicionar um botão na minha tela, devo botar ele dentro do compose. Mas claro que ele não está \"adicionando\", visto que o yield é mais como um return, porém, não igual"
   ]
  },
  {
   "cell_type": "markdown",
   "id": "2403ee81",
   "metadata": {},
   "source": [
    "\n",
    "6. O que acontece se você adicionar mais widgets Static dentro do método `compose`?\n"
   ]
  },
  {
   "cell_type": "markdown",
   "id": "83f23836",
   "metadata": {},
   "source": [
    "- Resposta: Se o Static não tiver texto você não irá vê-lo, ele vai ser invisivel. Mas se tiver texto, você verá o texto embaixo dos textos dos outros statics"
   ]
  },
  {
   "cell_type": "markdown",
   "id": "3ad0281f",
   "metadata": {},
   "source": [
    "\n",
    "7. Veja o código abaixo. O que será exibido após pressionar o botão duas vezes?\n",
    "\n",
    "```python\n",
    "from textual.app import App, ComposeResult\n",
    "from textual.widgets import Button, Static\n",
    "\n",
    "class ContadorApp(App):\n",
    "    def __init__(self):\n",
    "        super().__init__()\n",
    "        self.contador = 0\n",
    "\n",
    "    def compose(self) -> ComposeResult:\n",
    "        yield Button(\"Incrementar\", id=\"inc\")\n",
    "        yield Static(f\"Valor: {self.contador}\", id=\"valor\")\n",
    "\n",
    "    def on_button_pressed(self, event: Button.Pressed) -> None:\n",
    "        self.contador += 1\n",
    "        self.query_one(\"#valor\", Static).update(f\"Valor: {self.contador}\")\n",
    "\n",
    "ContadorApp().run()\n",
    "```\n"
   ]
  },
  {
   "cell_type": "markdown",
   "id": "a4b4fbfd",
   "metadata": {},
   "source": [
    "- Resposta:\n",
    "\n",
    "Quando a tela iniciar vai mostrar \"Valor: 0\"\n",
    "\n",
    "Quando clicar no botão uma vez vai mostrar \"Valor: 1\"\n",
    "\n",
    "Quando clicar mais uma vez no botão vai mostrar \"Valor: 2\"\n",
    "\n",
    "Cada vez que o botão é clicado ele incremente o valor por 1. 0 + 1 = 1, 1 + 1 = 2, 2 + 1 = 3..."
   ]
  },
  {
   "cell_type": "markdown",
   "id": "7499e482",
   "metadata": {},
   "source": [
    "\n",
    "8. No exemplo acima, explique como o valor exibido é atualizado.\n"
   ]
  },
  {
   "cell_type": "markdown",
   "id": "f070ca88",
   "metadata": {},
   "source": [
    "- Resposta:\n",
    "\n",
    "Quando o programa ele inicia ele tem na memória uma variável contador de valor 0. Esse valor é passado para o componente Static\n",
    "\n",
    "Quando a pessoa clica no botão é gerado um evento de botão pressionado. Quando esse evento é gerado o código soma 1 na váriavel contador e passa ela para o Static novamente, sobreescrevendo o que tinha no Static antes.\n",
    "\n",
    "Então, como eu disse, contador é 0 ao iniciar o programa. A pessoa clica no botão e vai ser somado 1 ao valor do contador que é 0. 0 + 1 é igual á 1. O valor da variável contador passa a ser 1 agora. Então esse valor é mostrado na tela"
   ]
  },
  {
   "cell_type": "markdown",
   "id": "e3c57dc8",
   "metadata": {},
   "source": [
    "\n",
    "9. Analise o código e explique o que o método `query` faz:\n",
    "\n",
    "```python\n",
    "for widget in self.query(Static):\n",
    "    widget.update(\"Atualizado!\")\n",
    "```\n"
   ]
  },
  {
   "cell_type": "markdown",
   "id": "d9be3454",
   "metadata": {},
   "source": [
    "- Resposta: O método query retorna uma lista com todos objetos Static existentes no teu código. \n",
    "\n",
    "O for está percorrendo essa lista e atualizando o valor de cada Static para \"Atualizado!\"\n",
    "\n",
    "Então o query basicamente \"pega\" objetos de um certo tipo e te retorna esses objetos. Retorna uma lista desses objetos"
   ]
  },
  {
   "cell_type": "markdown",
   "id": "222ba0d5",
   "metadata": {},
   "source": [
    "\n",
    "10. Dado o CSS abaixo, quais widgets serão afetados?\n",
    "\n",
    "```css\n",
    "Static {\n",
    "    color: #fff;\n",
    "}\n",
    "#msg1 {\n",
    "    background: #333;\n",
    "}\n",
    ".avisos {\n",
    "    border: solid 2px #ff0;\n",
    "}\n",
    "```"
   ]
  },
  {
   "cell_type": "markdown",
   "id": "3a7ecc75",
   "metadata": {},
   "source": [
    "- Resposta: Como só temos visão do CSS e não do Código Python"
   ]
  }
 ],
 "metadata": {
  "language_info": {
   "name": "python"
  }
 },
 "nbformat": 4,
 "nbformat_minor": 5
}
