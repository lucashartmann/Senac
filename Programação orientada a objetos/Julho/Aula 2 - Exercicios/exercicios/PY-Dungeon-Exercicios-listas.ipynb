{
 "cells": [
  {
   "cell_type": "markdown",
   "id": "71f017a5",
   "metadata": {},
   "source": [
    "# Exercícios sobre Uso de Listas\n",
    "\n",
    "1. **Criação de Lista**  \n",
    "   Crie uma lista chamada `itens` contendo os nomes de três objetos encontrados em uma sala do dungeon.\n"
   ]
  },
  {
   "cell_type": "code",
   "execution_count": 1,
   "id": "3ba47540",
   "metadata": {},
   "outputs": [],
   "source": [
    "itens = ['Espada de fogo', \"Pá de diamante\", \"Peitoral de ferro\"]"
   ]
  },
  {
   "cell_type": "markdown",
   "id": "bdac172b",
   "metadata": {},
   "source": [
    "\n",
    "2. **Acesso a Elementos**  \n",
    "   Dada a lista `itens = [\"espada\", \"escudo\", \"poção\"]`, escreva um código para imprimir o segundo item da lista.\n"
   ]
  },
  {
   "cell_type": "code",
   "execution_count": 3,
   "id": "ebeccbb9",
   "metadata": {},
   "outputs": [
    {
     "name": "stdout",
     "output_type": "stream",
     "text": [
      "escudo\n"
     ]
    }
   ],
   "source": [
    "itens = [\"espada\", \"escudo\", \"poção\"]\n",
    "print(itens[1])"
   ]
  },
  {
   "cell_type": "markdown",
   "id": "045c0a60",
   "metadata": {},
   "source": [
    "\n",
    "3. **Adição e Remoção**  \n",
    "   Adicione o item `\"chave\"` à lista `itens` e depois remova o item `\"escudo\"`.\n"
   ]
  },
  {
   "cell_type": "code",
   "execution_count": 5,
   "id": "630f32f9",
   "metadata": {},
   "outputs": [
    {
     "name": "stdout",
     "output_type": "stream",
     "text": [
      "['espada', 'poção', 'chave']\n"
     ]
    }
   ],
   "source": [
    "itens = [\"espada\", \"escudo\", \"poção\"]\n",
    "itens.append(\"chave\")\n",
    "itens.remove(\"escudo\")\n",
    "print(itens)"
   ]
  },
  {
   "cell_type": "markdown",
   "id": "c441d27f",
   "metadata": {},
   "source": [
    "\n",
    "4. **Percorrendo Listas**  \n",
    "   Escreva um laço que percorra a lista `itens` e imprima cada elemento.\n"
   ]
  },
  {
   "cell_type": "code",
   "execution_count": 6,
   "id": "d6dcbed8",
   "metadata": {},
   "outputs": [
    {
     "name": "stdout",
     "output_type": "stream",
     "text": [
      "Item: espada\n",
      "Item: poção\n",
      "Item: chave\n"
     ]
    }
   ],
   "source": [
    "for item in itens:\n",
    "    print(\"Item:\",item)"
   ]
  },
  {
   "cell_type": "markdown",
   "id": "cad82e86",
   "metadata": {},
   "source": [
    "\n",
    "5. **Listas de Listas**  \n",
    "   Crie uma lista chamada `inventarios` onde cada elemento é uma lista representando os itens de diferentes personagens. Adicione pelo menos dois inventários diferentes.\n"
   ]
  },
  {
   "cell_type": "code",
   "execution_count": 19,
   "id": "dcdcbe2b",
   "metadata": {},
   "outputs": [
    {
     "name": "stdout",
     "output_type": "stream",
     "text": [
      "Inventario 0: ['espada', 'gema', 'capa']\n",
      "Inventario 1: ['picareta', 'botas', 'escudo']\n",
      "Inventario 2: ['anel', 'lanca']\n"
     ]
    }
   ],
   "source": [
    "inventarios = [[\"espada\", \"gema\", \"capa\"], [\"picareta\", \"botas\", \"escudo\"], [\"anel\", \"lanca\"]]\n",
    "for i, inventario in enumerate(inventarios):\n",
    "        print(f\"Inventario {i}: {inventario}\")"
   ]
  },
  {
   "cell_type": "code",
   "execution_count": 20,
   "id": "d9692c7f",
   "metadata": {},
   "outputs": [
    {
     "name": "stdout",
     "output_type": "stream",
     "text": [
      "espada\n",
      "gema\n",
      "capa\n",
      "\n",
      "picareta\n",
      "botas\n",
      "escudo\n",
      "\n",
      "anel\n",
      "lanca\n",
      "\n"
     ]
    }
   ],
   "source": [
    "for inventario in inventarios:\n",
    "        for item in inventario:\n",
    "            print(item)\n",
    "        print()"
   ]
  }
 ],
 "metadata": {
  "kernelspec": {
   "display_name": "Python 3",
   "language": "python",
   "name": "python3"
  },
  "language_info": {
   "codemirror_mode": {
    "name": "ipython",
    "version": 3
   },
   "file_extension": ".py",
   "mimetype": "text/x-python",
   "name": "python",
   "nbconvert_exporter": "python",
   "pygments_lexer": "ipython3",
   "version": "3.13.3"
  }
 },
 "nbformat": 4,
 "nbformat_minor": 5
}
