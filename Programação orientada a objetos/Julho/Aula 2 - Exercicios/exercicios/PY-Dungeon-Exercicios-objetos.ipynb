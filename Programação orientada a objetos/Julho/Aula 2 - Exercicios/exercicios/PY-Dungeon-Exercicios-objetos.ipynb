{
 "cells": [
  {
   "cell_type": "markdown",
   "id": "a10c845b",
   "metadata": {},
   "source": [
    "# Exercícios sobre Instanciação e Uso de Objetos\n",
    "\n",
    "1. **Instanciando uma Classe**  \n",
    "   Crie um objeto da classe `Porta` e atribua à variável `porta1`.\n"
   ]
  },
  {
   "cell_type": "code",
   "execution_count": 4,
   "id": "54b50c2d",
   "metadata": {},
   "outputs": [],
   "source": [
    "class Porta:\n",
    "    def __init__(self):\n",
    "        self.aberta = False\n",
    "\n",
    "    def abrir(self):\n",
    "        self.aberta = True\n",
    "        \n",
    "\n",
    "porta1 = Porta()"
   ]
  },
  {
   "cell_type": "markdown",
   "id": "86ef7683",
   "metadata": {},
   "source": [
    "\n",
    "2. **Acessando Atributos**  \n",
    "   Instancie um objeto da classe `Chave` com o código 123 e imprima o valor do atributo `codigo`.\n"
   ]
  },
  {
   "cell_type": "code",
   "execution_count": 3,
   "id": "4fb72d2d",
   "metadata": {},
   "outputs": [
    {
     "name": "stdout",
     "output_type": "stream",
     "text": [
      "123\n"
     ]
    }
   ],
   "source": [
    "class Chave:\n",
    "    def __init__(self, codigo):\n",
    "        self.codigo = codigo\n",
    "\n",
    "chave1 = Chave(123)\n",
    "print(chave1.codigo)"
   ]
  },
  {
   "cell_type": "markdown",
   "id": "68fe89fe",
   "metadata": {},
   "source": [
    "\n",
    "3. **Chamando Métodos**  \n",
    "   Crie um objeto da classe `Tesouro` com valor 50 e chame o método `coletar()`.\n"
   ]
  },
  {
   "cell_type": "code",
   "execution_count": 5,
   "id": "a57a44b5",
   "metadata": {},
   "outputs": [
    {
     "name": "stdout",
     "output_type": "stream",
     "text": [
      "Tesouro coletado! 0\n"
     ]
    }
   ],
   "source": [
    "class Tesouro:\n",
    "    def __init__(self):\n",
    "        self.valor = 0\n",
    "\n",
    "    def coletar(self):\n",
    "        print(f\"Tesouro coletado! {self.valor}\")\n",
    "\n",
    "tesouro1 = Tesouro()\n",
    "tesouro1.coletar()"
   ]
  },
  {
   "cell_type": "markdown",
   "id": "03467099",
   "metadata": {},
   "source": [
    "\n",
    "4. **Modificando Atributos**  \n",
    "   Instancie um objeto da classe `Porta`, defina o atributo `aberta` como `True` e imprima o valor.\n"
   ]
  },
  {
   "cell_type": "code",
   "execution_count": 6,
   "id": "4c9d1740",
   "metadata": {},
   "outputs": [
    {
     "name": "stdout",
     "output_type": "stream",
     "text": [
      "True\n"
     ]
    }
   ],
   "source": [
    "porta1 = Porta()\n",
    "porta1.abrir()\n",
    "print(porta1.aberta)"
   ]
  },
  {
   "cell_type": "markdown",
   "id": "bf27a2ac",
   "metadata": {},
   "source": [
    "\n",
    "5. **Usando Métodos de Verificação**  \n",
    "   Crie um objeto da classe `Cofre` com a senha \"abc123\" e verifique se a senha \"abc123\" está correta usando o método `verificar_senha`.\n"
   ]
  },
  {
   "cell_type": "code",
   "execution_count": null,
   "id": "25446c76",
   "metadata": {},
   "outputs": [
    {
     "name": "stdout",
     "output_type": "stream",
     "text": [
      "False\n"
     ]
    }
   ],
   "source": [
    "class Cofre:\n",
    "    def __init__(self):\n",
    "        self._senha = \" \"\n",
    "\n",
    "    def verificar_senha(self, senha):\n",
    "        if senha == self._senha:\n",
    "            return True\n",
    "        return False\n",
    "    \n",
    "cofre1 = Cofre()\n",
    "cofre1._senha = \"abc123\"\n",
    "vericacao = cofre1.verificar_senha(\"abc123\")\n",
    "print(vericacao)"
   ]
  },
  {
   "cell_type": "markdown",
   "id": "e5040ec6",
   "metadata": {},
   "source": [
    "\n",
    "6. **Herança e Métodos**  \n",
    "   Instancie um objeto da classe `PortaSecreta` e chame o método `revelar()`.\n"
   ]
  },
  {
   "cell_type": "code",
   "execution_count": 12,
   "id": "d3488ff4",
   "metadata": {},
   "outputs": [
    {
     "name": "stdout",
     "output_type": "stream",
     "text": [
      "Uma porta secreta foi revelada!\n"
     ]
    }
   ],
   "source": [
    "class PortaSecreta(Porta): \n",
    "    def revelar(self):\n",
    "        print(\"Uma porta secreta foi revelada!\")\n",
    "\n",
    "porta2 = PortaSecreta()\n",
    "\n",
    "porta2.revelar()"
   ]
  },
  {
   "cell_type": "markdown",
   "id": "bb4cefd5",
   "metadata": {},
   "source": [
    "\n",
    "7. **Atribuindo Objetos a Atributos**  \n",
    "   Crie um objeto da classe `Personagem` e atribua a ele uma sala (`Cena`) chamada \"Biblioteca\".\n"
   ]
  },
  {
   "cell_type": "code",
   "execution_count": null,
   "id": "2e4c51a0",
   "metadata": {},
   "outputs": [],
   "source": [
    "class Personagem:\n",
    "    def __init__(self):\n",
    "        self.cena = \"Biblioteca\""
   ]
  },
  {
   "cell_type": "markdown",
   "id": "14a389c7",
   "metadata": {},
   "source": [
    "\n",
    "8. **Adicionando Itens ao Inventário**  \n",
    "   Instancie um objeto da classe `Personagem` e adicione um item chamado \"espada\" ao seu inventário.\n"
   ]
  },
  {
   "cell_type": "code",
   "execution_count": 3,
   "id": "39a3114a",
   "metadata": {},
   "outputs": [
    {
     "name": "stdout",
     "output_type": "stream",
     "text": [
      "['espada']\n"
     ]
    }
   ],
   "source": [
    "class Personagem:\n",
    "    def __init__(self):\n",
    "        self.cena = \"Biblioteca\"\n",
    "        self.inventario = []\n",
    "\n",
    "    def adicionar_item(self, item):\n",
    "        self.inventario.append(item)\n",
    "\n",
    "\n",
    "guerreiro = Personagem()\n",
    "guerreiro.adicionar_item(\"espada\")\n",
    "print(guerreiro.inventario)"
   ]
  },
  {
   "cell_type": "markdown",
   "id": "9328f091",
   "metadata": {},
   "source": [
    "\n",
    "9. **Equipando um Item**  \n",
    "   Instancie um objeto da classe `Personagem`, adicione um item ao inventário e use o método `equipar` para equipá-lo.\n"
   ]
  },
  {
   "cell_type": "code",
   "execution_count": 8,
   "id": "5eb6771f",
   "metadata": {},
   "outputs": [
    {
     "name": "stdout",
     "output_type": "stream",
     "text": [
      "['espada']\n",
      "espada\n"
     ]
    }
   ],
   "source": [
    "class Personagem:\n",
    "    def __init__(self):\n",
    "        self.cena = \"Biblioteca\"\n",
    "        self.inventario = []\n",
    "        self.item_equipado = None\n",
    "\n",
    "    def adicionar_item(self, item):\n",
    "        self.inventario.append(item)\n",
    "\n",
    "    def equipar(self, item):\n",
    "        if item in self.inventario:\n",
    "            self.item_equipado = item\n",
    "\n",
    "\n",
    "guerreiro = Personagem()\n",
    "guerreiro.adicionar_item(\"espada\")\n",
    "print(guerreiro.inventario)\n",
    "guerreiro.equipar(\"espada\")\n",
    "print(guerreiro.item_equipado)"
   ]
  },
  {
   "cell_type": "markdown",
   "id": "3e36e304",
   "metadata": {},
   "source": [
    "\n",
    "10. **Composição de Objetos**  \n",
    "    Crie dois objetos da classe `Cena`, conecte um ao norte do outro e mostre como acessar a sala ao norte a partir do primeiro objeto.\n"
   ]
  },
  {
   "cell_type": "code",
   "execution_count": 29,
   "id": "5b44c697",
   "metadata": {},
   "outputs": [
    {
     "name": "stdout",
     "output_type": "stream",
     "text": [
      "Sala: Sala, norte da sala: Quarto\n"
     ]
    }
   ],
   "source": [
    "class Cena:\n",
    "    def __init__(self, nome):\n",
    "        self.nome = nome\n",
    "        self.norte = None\n",
    "\n",
    "    def __str__(self):\n",
    "        return f\"Sala: {self.nome}, norte da sala: {self.norte.nome}\"\n",
    "\n",
    "quarto = Cena(\"Quarto\")\n",
    "sala = Cena(\"Sala\")\n",
    "\n",
    "quarto.norte = sala\n",
    "sala.norte = quarto\n",
    "\n",
    "print(sala)\n"
   ]
  }
 ],
 "metadata": {
  "kernelspec": {
   "display_name": "Python 3",
   "language": "python",
   "name": "python3"
  },
  "language_info": {
   "codemirror_mode": {
    "name": "ipython",
    "version": 3
   },
   "file_extension": ".py",
   "mimetype": "text/x-python",
   "name": "python",
   "nbconvert_exporter": "python",
   "pygments_lexer": "ipython3",
   "version": "3.13.3"
  }
 },
 "nbformat": 4,
 "nbformat_minor": 5
}
