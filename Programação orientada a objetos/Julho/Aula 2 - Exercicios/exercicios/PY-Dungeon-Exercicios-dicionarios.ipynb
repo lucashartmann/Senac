{
 "cells": [
  {
   "cell_type": "markdown",
   "id": "0f049a67",
   "metadata": {},
   "source": [
    "# Exercícios sobre Uso de Dicionários\n",
    "\n",
    "1. **Criação de Dicionário**  \n",
    "   Crie um dicionário chamado `personagem` com as chaves `\"nome\"`, `\"classe\"` e `\"nivel\"`.\n"
   ]
  },
  {
   "cell_type": "code",
   "execution_count": 2,
   "id": "a0c30f7f",
   "metadata": {},
   "outputs": [],
   "source": [
    "personagem = {\n",
    "    \"nome\": \"\",\n",
    "    \"classe\": \"\",\n",
    "    \"nivel\": \"\"\n",
    "}"
   ]
  },
  {
   "cell_type": "markdown",
   "id": "51fadcd0",
   "metadata": {},
   "source": [
    "\n",
    "2. **Acesso a Valores**  \n",
    "   Dado o dicionário `item = {\"nome\": \"espada\", \"dano\": 5}`, escreva um código para imprimir o valor associado à chave `\"dano\"`.\n"
   ]
  },
  {
   "cell_type": "code",
   "execution_count": 3,
   "id": "cc5391c0",
   "metadata": {},
   "outputs": [
    {
     "name": "stdout",
     "output_type": "stream",
     "text": [
      "5\n"
     ]
    }
   ],
   "source": [
    "item = {\"nome\": \"espada\", \"dano\": 5}\n",
    "\n",
    "def imprimir_dano():\n",
    "    print(item[\"dano\"])\n",
    "\n",
    "imprimir_dano()"
   ]
  },
  {
   "cell_type": "markdown",
   "id": "1fdceee4",
   "metadata": {},
   "source": [
    "\n",
    "3. **Adição e Remoção de Chaves**  \n",
    "   Adicione a chave `\"protecao\"` com valor `3` ao dicionário `item` e depois remova a chave `\"nome\"`.\n"
   ]
  },
  {
   "cell_type": "code",
   "execution_count": 7,
   "id": "597900a7",
   "metadata": {},
   "outputs": [
    {
     "name": "stdout",
     "output_type": "stream",
     "text": [
      "{'nome': 'espada', 'dano': 5, 'protecao': 3}\n",
      "{'dano': 5, 'protecao': 3}\n"
     ]
    }
   ],
   "source": [
    "item[\"protecao\"] = 3\n",
    "print(item)\n",
    "\n",
    "del item[\"nome\"]\n",
    "\n",
    "print(item)"
   ]
  },
  {
   "cell_type": "markdown",
   "id": "c78a442f",
   "metadata": {},
   "source": [
    "\n",
    "4. **Percorrendo Dicionários**  \n",
    "   Escreva um laço que percorra todas as chaves e valores do dicionário `personagem` e imprima cada par.\n"
   ]
  },
  {
   "cell_type": "code",
   "execution_count": 9,
   "id": "89ab7a27",
   "metadata": {},
   "outputs": [
    {
     "name": "stdout",
     "output_type": "stream",
     "text": [
      "(nome, Felizandro)\n",
      "(classe, Mago)\n",
      "(nivel, 10)\n"
     ]
    }
   ],
   "source": [
    "personagem[\"nome\"] = \"Felizandro\"\n",
    "personagem[\"classe\"] = \"Mago\"\n",
    "personagem[\"nivel\"] = 10\n",
    "\n",
    "for chave, valor in personagem.items():\n",
    "    print(f\"({chave}, {valor})\")"
   ]
  },
  {
   "cell_type": "markdown",
   "id": "4c05c18c",
   "metadata": {},
   "source": [
    "\n",
    "5. **Dicionários Aninhados**  \n",
    "   Crie um dicionário chamado `inventario` onde cada chave é o nome de um personagem e o valor é outro dicionário com os itens desse personagem.\n"
   ]
  },
  {
   "cell_type": "code",
   "execution_count": null,
   "id": "0e5607b9",
   "metadata": {},
   "outputs": [
    {
     "name": "stdout",
     "output_type": "stream",
     "text": [
      "{'Felizandro': {'dano': 5, 'protecao': 3}}\n"
     ]
    }
   ],
   "source": [
    "inventario  = {}\n",
    "\n",
    "inventario[personagem[\"nome\"]] = item\n",
    "\n",
    "print(inventario)"
   ]
  }
 ],
 "metadata": {
  "kernelspec": {
   "display_name": "Python 3",
   "language": "python",
   "name": "python3"
  },
  "language_info": {
   "codemirror_mode": {
    "name": "ipython",
    "version": 3
   },
   "file_extension": ".py",
   "mimetype": "text/x-python",
   "name": "python",
   "nbconvert_exporter": "python",
   "pygments_lexer": "ipython3",
   "version": "3.13.3"
  }
 },
 "nbformat": 4,
 "nbformat_minor": 5
}
