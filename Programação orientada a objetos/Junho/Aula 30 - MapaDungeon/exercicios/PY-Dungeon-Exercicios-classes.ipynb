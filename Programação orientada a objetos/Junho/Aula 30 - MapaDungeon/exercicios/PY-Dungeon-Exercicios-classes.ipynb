{
 "cells": [
  {
   "cell_type": "markdown",
   "id": "3e72d81f",
   "metadata": {},
   "source": [
    "# Exercícios sobre Definição de Classes\n",
    "\n",
    "1. **Defina uma classe simples**  \n",
    "   Crie uma classe chamada `Porta` que tenha um atributo `aberta` (booleano) e um método `abrir()` que define `aberta` como `True`.\n"
   ]
  },
  {
   "cell_type": "code",
   "execution_count": 1,
   "id": "885e1cda",
   "metadata": {},
   "outputs": [],
   "source": [
    "class Porta:\n",
    "    def __init__(self):\n",
    "        self.aberta = False\n",
    "\n",
    "    def abrir(self):\n",
    "        self.aberta = True\n",
    "        "
   ]
  },
  {
   "cell_type": "markdown",
   "id": "b8418731",
   "metadata": {},
   "source": [
    "\n",
    "2. **Classe com construtor**  \n",
    "   Implemente uma classe `Chave` que recebe um número `codigo` no construtor e armazena esse valor em um atributo.\n"
   ]
  },
  {
   "cell_type": "code",
   "execution_count": 2,
   "id": "4b6a9718",
   "metadata": {},
   "outputs": [],
   "source": [
    "class Chave:\n",
    "    def __init__(self, codigo):\n",
    "        self.codigo = codigo"
   ]
  },
  {
   "cell_type": "markdown",
   "id": "b4c1350f",
   "metadata": {},
   "source": [
    "\n",
    "3. **Classe com métodos de instância**  \n",
    "   Crie uma classe `Tesouro` com um atributo `valor` e um método `coletar()` que imprime \"Tesouro coletado!\" e retorna o valor.\n"
   ]
  },
  {
   "cell_type": "code",
   "execution_count": 4,
   "id": "59714dcd",
   "metadata": {},
   "outputs": [],
   "source": [
    "class Tesouro:\n",
    "    def __init__(self):\n",
    "        self.valor = 0\n",
    "\n",
    "    def coletar(self):\n",
    "        print(f\"Tesouro coletado! {self.valor}\")"
   ]
  },
  {
   "cell_type": "markdown",
   "id": "a266af30",
   "metadata": {},
   "source": [
    "\n",
    "4. **Classe com atributos privados**  \n",
    "   Defina uma classe `Cofre` com um atributo privado `_senha` e um método `verificar_senha(senha)` que retorna `True` se a senha estiver correta.\n"
   ]
  },
  {
   "cell_type": "code",
   "execution_count": null,
   "id": "cefca977",
   "metadata": {},
   "outputs": [],
   "source": [
    "class Cofre:\n",
    "    def __init__(self):\n",
    "        self._senha = \" \"\n",
    "\n",
    "    def verificar_senha(self, senha):\n",
    "        if senha == self._senha:\n",
    "            return True\n",
    "        return False"
   ]
  },
  {
   "cell_type": "markdown",
   "id": "ecfdc3ee",
   "metadata": {},
   "source": [
    "\n",
    "5. **Classe com herança**  \n",
    "   Implemente uma classe `PortaSecreta` que herda de `Porta` e adiciona um método `revelar()` que imprime \"Uma porta secreta foi revelada!\".\n"
   ]
  },
  {
   "cell_type": "code",
   "execution_count": 7,
   "id": "164b1b6a",
   "metadata": {},
   "outputs": [],
   "source": [
    "class PortaSecreta(Porta): \n",
    "    def revelar(self):\n",
    "        print(\"Uma porta secreta foi revelada!\")\n"
   ]
  }
 ],
 "metadata": {
  "kernelspec": {
   "display_name": "Python 3",
   "language": "python",
   "name": "python3"
  },
  "language_info": {
   "codemirror_mode": {
    "name": "ipython",
    "version": 3
   },
   "file_extension": ".py",
   "mimetype": "text/x-python",
   "name": "python",
   "nbconvert_exporter": "python",
   "pygments_lexer": "ipython3",
   "version": "3.13.3"
  }
 },
 "nbformat": 4,
 "nbformat_minor": 5
}
