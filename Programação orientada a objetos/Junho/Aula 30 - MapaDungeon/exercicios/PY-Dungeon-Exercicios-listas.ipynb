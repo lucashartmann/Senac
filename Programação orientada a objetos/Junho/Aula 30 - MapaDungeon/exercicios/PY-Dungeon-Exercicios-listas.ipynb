{
 "cells": [
  {
   "cell_type": "markdown",
   "id": "e50ba3be",
   "metadata": {},
   "source": [
    "# Exercícios sobre Uso de Listas\n",
    "\n",
    "1. **Criação de Lista**  \n",
    "   Crie uma lista chamada `itens` contendo os nomes de três objetos encontrados em uma sala do dungeon.\n",
    "\n",
    "2. **Acesso a Elementos**  \n",
    "   Dada a lista `itens = [\"espada\", \"escudo\", \"poção\"]`, escreva um código para imprimir o segundo item da lista.\n",
    "\n",
    "3. **Adição e Remoção**  \n",
    "   Adicione o item `\"chave\"` à lista `itens` e depois remova o item `\"escudo\"`.\n",
    "\n",
    "4. **Percorrendo Listas**  \n",
    "   Escreva um laço que percorra a lista `itens` e imprima cada elemento.\n",
    "\n",
    "5. **Listas de Listas**  \n",
    "   Crie uma lista chamada `inventarios` onde cada elemento é uma lista representando os itens de diferentes personagens. Adicione pelo menos dois inventários diferentes.\n"
   ]
  }
 ],
 "metadata": {
  "language_info": {
   "name": "python"
  }
 },
 "nbformat": 4,
 "nbformat_minor": 5
}
