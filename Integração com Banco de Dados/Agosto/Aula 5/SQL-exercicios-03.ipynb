{
 "cells": [
  {
   "cell_type": "markdown",
   "id": "bc1e0f45",
   "metadata": {},
   "source": [
    "# Exercícios - banco de dados Chinook\n",
    "\n",
    "1. Qual é o albumid do álbum chamado 'Dark Side Of The Moon'?\n"
   ]
  },
  {
   "cell_type": "code",
   "execution_count": null,
   "id": "bd37bb02",
   "metadata": {
    "vscode": {
     "languageId": "sql"
    }
   },
   "outputs": [],
   "source": [
    "SELECT AlbumId\n",
    "FROM albums\n",
    "WHERE Title = 'Dark Side Of The Moon';"
   ]
  },
  {
   "cell_type": "markdown",
   "id": "2d658fbd",
   "metadata": {},
   "source": [
    "- 183"
   ]
  },
  {
   "cell_type": "markdown",
   "id": "ed18e584",
   "metadata": {},
   "source": [
    "\n",
    "2. Liste o título dos álbums e nomes dos artistas que tenham a palavra 'black' no nome\n"
   ]
  },
  {
   "cell_type": "code",
   "execution_count": null,
   "id": "b4815bd9",
   "metadata": {
    "vscode": {
     "languageId": "sql"
    }
   },
   "outputs": [],
   "source": [
    "SELECT Title AS 'Titulo Album', Name AS 'Artista'\n",
    "FROM albums\n",
    "INNER JOIN artists USING (ArtistId)\n",
    "WHERE Name LIKE '%black%';"
   ]
  },
  {
   "cell_type": "markdown",
   "id": "04f31ea2",
   "metadata": {},
   "source": [
    "\n",
    "3. Liste o nome e o comprimento (em milissegundos) de todas\n",
    "as faixas que tem comprimento entre 50000 e 70000 milisegundos acompanhadas do título do álbum onde elas podem ser encontradas.\n"
   ]
  },
  {
   "cell_type": "code",
   "execution_count": null,
   "id": "b9c7f26b",
   "metadata": {
    "vscode": {
     "languageId": "sql"
    }
   },
   "outputs": [],
   "source": [
    "SELECT Name AS 'Nome', Milliseconds as \"Comprimento\", Title as \"Álbum\"\n",
    "FROM tracks\n",
    "JOIN albums\n",
    "USING (AlbumId)\n",
    "WHERE Milliseconds BETWEEN 50000 AND 70000;"
   ]
  },
  {
   "cell_type": "markdown",
   "id": "13ed0621",
   "metadata": {},
   "source": [
    "\n",
    "4. Escreva uma consulta que mostre os Customers (nome completo, customerid e country)\n",
    "que tenham nome começando por 'A';\n"
   ]
  },
  {
   "cell_type": "code",
   "execution_count": null,
   "id": "ba68b873",
   "metadata": {
    "vscode": {
     "languageId": "sql"
    }
   },
   "outputs": [],
   "source": [
    "SELECT FirstName || ' ' || LastName AS \"Nome Completo\", CustomerId, Country\n",
    "FROM customers\n",
    "WHERE FirstName LIKE 'A%';"
   ]
  },
  {
   "cell_type": "markdown",
   "id": "8c4997f3",
   "metadata": {},
   "source": [
    "\n",
    "5. Liste o nome e sobrenome, sem repetições, dos clientes para os quais foram emitidos invoices destinados ao Brasil (BillingCountry = 'Brazil').\n"
   ]
  },
  {
   "cell_type": "code",
   "execution_count": null,
   "id": "6fcf0e5d",
   "metadata": {
    "vscode": {
     "languageId": "sql"
    }
   },
   "outputs": [],
   "source": [
    "SELECT DISTINCT FirstName, LastName, BillingCountry\n",
    "FROM customers\n",
    "JOIN invoices\n",
    "USING (CustomerId) \n",
    "WHERE BillingCountry = 'Brazil';"
   ]
  },
  {
   "cell_type": "markdown",
   "id": "a6bd3a32",
   "metadata": {},
   "source": [
    "\n",
    "6. Liste o nome de todas as faixas do gênero Rock and Roll"
   ]
  },
  {
   "cell_type": "code",
   "execution_count": null,
   "id": "fefdf6a2",
   "metadata": {
    "vscode": {
     "languageId": "sql"
    }
   },
   "outputs": [],
   "source": [
    "SELECT tracks.Name as \"Música\", albums.Title as 'Álbum', artists.Name as 'Artista', genres.Name as 'Genero'\n",
    "FROM tracks\n",
    "JOIN genres\n",
    "    USING (GenreId)\n",
    "JOIN albums\n",
    "    USING (AlbumId)\n",
    "JOIN artists\n",
    "    ON albums.ArtistId = artists.ArtistId\n",
    "WHERE genres.Name = 'Rock'\n",
    "ORDER BY \n",
    "    artists.Name DESC,\n",
    "    tracks.Name ASC\n",
    "LIMIT 20;"
   ]
  }
 ],
 "metadata": {
  "language_info": {
   "name": "python"
  }
 },
 "nbformat": 4,
 "nbformat_minor": 5
}
