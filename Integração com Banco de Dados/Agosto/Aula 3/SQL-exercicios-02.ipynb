{
 "cells": [
  {
   "cell_type": "markdown",
   "id": "ea354b5b",
   "metadata": {},
   "source": [
    "# Exercícios - banco de dados Chinook\n",
    "\n",
    "1. Qual é o título do album que tem albumid 67?\n"
   ]
  },
  {
   "cell_type": "code",
   "execution_count": null,
   "id": "258aa273",
   "metadata": {
    "vscode": {
     "languageId": "sql"
    }
   },
   "outputs": [],
   "source": [
    "SELECT title FROM albums WHERE albumid = 67;"
   ]
  },
  {
   "cell_type": "markdown",
   "id": "b18e1548",
   "metadata": {},
   "source": [
    "- Resposta: O titulo é Vault: Def Leppard's Greatest Hits "
   ]
  },
  {
   "cell_type": "markdown",
   "id": "39faec1e",
   "metadata": {},
   "source": [
    "\n",
    "2. Liste todos os artistas que tem a palavra 'black' no nome\n"
   ]
  },
  {
   "cell_type": "code",
   "execution_count": null,
   "id": "877269d7",
   "metadata": {
    "vscode": {
     "languageId": "sql"
    }
   },
   "outputs": [],
   "source": [
    "SELECT * FROM artists WHERE name LIKE '%black%';"
   ]
  },
  {
   "cell_type": "markdown",
   "id": "354730ea",
   "metadata": {},
   "source": [
    "\n",
    "3. Liste o nome e o comprimento (em milissegundos) de todas\n",
    "as faixas que tem comprimento entre 50000 e 70000 milisegundos\n"
   ]
  },
  {
   "cell_type": "code",
   "execution_count": null,
   "id": "ebb21605",
   "metadata": {
    "vscode": {
     "languageId": "sql"
    }
   },
   "outputs": [],
   "source": [
    "SELECT name, milliseconds FROM tracks WHERE milliseconds BETWEEN 50000 AND 70000;"
   ]
  },
  {
   "cell_type": "markdown",
   "id": "d2bb4c3e",
   "metadata": {},
   "source": [
    "\n",
    "4. Escreva uma consulta mostrando uma lista de 'billing countries'\n",
    "da tabela invoice. Os valores não podem se repetir\n"
   ]
  },
  {
   "cell_type": "code",
   "execution_count": null,
   "id": "3fb6484d",
   "metadata": {
    "vscode": {
     "languageId": "sql"
    }
   },
   "outputs": [],
   "source": [
    "SELECT DISTINCT billingcountry FROM invoices;"
   ]
  },
  {
   "cell_type": "markdown",
   "id": "2809fce0",
   "metadata": {},
   "source": [
    "\n",
    "5. Escreva uma consulta que mostre os Customers (nome completo, customerid e country)\n",
    "que sejam do Brazil\n"
   ]
  },
  {
   "cell_type": "code",
   "execution_count": null,
   "id": "1b0c4788",
   "metadata": {
    "vscode": {
     "languageId": "sql"
    }
   },
   "outputs": [],
   "source": [
    "SELECT FirstName || ' ' || LastName as NomeCompleto, CustomerId, Country\n",
    "FROM Customers\n",
    "WHERE Country = 'Brazil';"
   ]
  },
  {
   "cell_type": "markdown",
   "id": "2a4b6ba3",
   "metadata": {},
   "source": [
    "\n",
    "6. Escreva uma consulta que mostre todos os Employees que sejam 'Sales Agents'\n"
   ]
  },
  {
   "cell_type": "code",
   "execution_count": null,
   "id": "adbc4cb7",
   "metadata": {
    "vscode": {
     "languageId": "sql"
    }
   },
   "outputs": [],
   "source": [
    "SELECT *\n",
    "FROM Employees\n",
    "WHERE Title = 'Sales Agents';\n"
   ]
  },
  {
   "cell_type": "markdown",
   "id": "68c326af",
   "metadata": {},
   "source": [
    "\n",
    "7. Liste todas as cidades do Brazil para as quais foram realizadas vendas, exceto\n",
    "a cidade de São Paulo.\n"
   ]
  },
  {
   "cell_type": "code",
   "execution_count": null,
   "id": "b4b8e15b",
   "metadata": {
    "vscode": {
     "languageId": "sql"
    }
   },
   "outputs": [],
   "source": [
    "SELECT DISTINCT BillingCity\n",
    "FROM invoices\n",
    "WHERE BillingCountry = 'Brazil' AND BillingCity <> 'São Paulo';"
   ]
  },
  {
   "cell_type": "markdown",
   "id": "93089c2b",
   "metadata": {},
   "source": [
    "\n",
    "8. Liste o customerid, sem repetições, dos clientes de Brasilia.\n"
   ]
  },
  {
   "cell_type": "code",
   "execution_count": null,
   "id": "b9f4806b",
   "metadata": {
    "vscode": {
     "languageId": "sql"
    }
   },
   "outputs": [],
   "source": [
    "SELECT DISTINCT CustomerId\n",
    "FROM customers\n",
    "WHERE City = 'Brasília';"
   ]
  },
  {
   "cell_type": "code",
   "execution_count": null,
   "id": "83f55e56",
   "metadata": {
    "vscode": {
     "languageId": "sql"
    }
   },
   "outputs": [],
   "source": [
    "SELECT DISTINCT CustomerId\n",
    "FROM invoices\n",
    "WHERE BillingCity = 'Brasília';"
   ]
  },
  {
   "cell_type": "markdown",
   "id": "be9de95f",
   "metadata": {},
   "source": [
    "\n",
    "9. Liste o nome de todas as faixas do gênero Rock and Roll"
   ]
  },
  {
   "cell_type": "code",
   "execution_count": null,
   "id": "79ca3258",
   "metadata": {
    "vscode": {
     "languageId": "sql"
    }
   },
   "outputs": [],
   "source": [
    "SELECT Name\n",
    "FROM tracks\n",
    "WHERE GenreId = (SELECT GenreId FROM genres WHERE Name = 'Rock And Roll');"
   ]
  }
 ],
 "metadata": {
  "language_info": {
   "name": "python"
  }
 },
 "nbformat": 4,
 "nbformat_minor": 5
}
