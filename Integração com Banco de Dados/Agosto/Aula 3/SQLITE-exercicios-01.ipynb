{
 "cells": [
  {
   "cell_type": "markdown",
   "id": "811c636d",
   "metadata": {},
   "source": [
    "# Exercícios\n",
    "\n",
    "1. Abra o banco de dados `chinook.db` no `SQLite`\n"
   ]
  },
  {
   "cell_type": "code",
   "execution_count": null,
   "id": "0b8a2e0c",
   "metadata": {
    "vscode": {
     "languageId": "bat"
    }
   },
   "outputs": [],
   "source": [
    "sqlite3.exe\n",
    ".open chinook.db"
   ]
  },
  {
   "cell_type": "markdown",
   "id": "ba19b889",
   "metadata": {},
   "source": [
    "\n",
    "1. Liste todas as tabelas do banco\n"
   ]
  },
  {
   "cell_type": "code",
   "execution_count": null,
   "id": "d8449515",
   "metadata": {
    "vscode": {
     "languageId": "bat"
    }
   },
   "outputs": [],
   "source": [
    ".tables"
   ]
  },
  {
   "cell_type": "markdown",
   "id": "ad31202e",
   "metadata": {},
   "source": [
    "\n",
    "1. Mude o modo de exibição dos resultados para `table` usando o comando\n",
    "    ```\n",
    "    .mode table\n",
    "    ```\n"
   ]
  },
  {
   "cell_type": "markdown",
   "id": "d82d5a7c",
   "metadata": {},
   "source": [
    "\n",
    "1. Mostre a estrutura da tabela `tracks` usando a função `table_info()`, assim:\n",
    "    ```sql\n",
    "    PRAGMA table_info(tracks);\n",
    "    ```\n"
   ]
  },
  {
   "cell_type": "markdown",
   "id": "aa506eee",
   "metadata": {},
   "source": [
    "\n",
    "1. Use o comando `SELECT` para consultar as colunas `composer`, `unitprice` e `milliseconds` da tabela tracks.\n"
   ]
  },
  {
   "cell_type": "code",
   "execution_count": null,
   "id": "7cd27926",
   "metadata": {
    "vscode": {
     "languageId": "sql"
    }
   },
   "outputs": [],
   "source": [
    "SELECT composer, unitprice, milliseconds FROM tracks;"
   ]
  },
  {
   "cell_type": "markdown",
   "id": "ffb98aaf",
   "metadata": {},
   "source": [
    "\n",
    "1. Agora, vamos gerar um relatório contendo todas as faixas disponíveis na loja onde devem constar o título da faixa, o compositor e o preço dela.\n",
    "\n",
    "    Primeiro, Escreva uma consulta usando o comando `SELECT` que liste os valores das colunas `name`, `composer` e `unitprice`.\n",
    "    \n",
    "    Depois que estiver satisfeito com a consulta, gere o relatório. Para isso, mude a saída padrão para que ela seja redirecionada para um arquivo chamado `relatorio.txt`\n",
    "```\n",
    ".output 'relatorio.txt'\n",
    "```\n",
    "Agora, rode de novo a consulta que você fez. Confira no seu diretório de trabalho se lá existe um arquivo chamado `relatorio.txt` com os dados da consulta.                                                                                                     "
   ]
  },
  {
   "cell_type": "code",
   "execution_count": null,
   "id": "38d0500b",
   "metadata": {
    "vscode": {
     "languageId": "sql"
    }
   },
   "outputs": [],
   "source": [
    "SELECT name as Nome, composer as Compositor, unitprice as Preco FROM tracks;\n",
    ".output 'relatorio.txt'\n",
    "SELECT name as Nome, composer as Compositor, unitprice as Preco FROM tracks;"
   ]
  }
 ],
 "metadata": {
  "kernelspec": {
   "display_name": "Python 3",
   "language": "python",
   "name": "python3"
  },
  "language_info": {
   "codemirror_mode": {
    "name": "ipython",
    "version": 3
   },
   "file_extension": ".py",
   "mimetype": "text/x-python",
   "name": "python",
   "nbconvert_exporter": "python",
   "pygments_lexer": "ipython3",
   "version": "3.12.0"
  }
 },
 "nbformat": 4,
 "nbformat_minor": 5
}
